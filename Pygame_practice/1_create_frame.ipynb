{
 "cells": [
  {
   "cell_type": "code",
   "execution_count": 3,
   "metadata": {},
   "outputs": [],
   "source": [
    "import pygame as pg\n",
    "\n",
    "pg.init() #초기화\n",
    "\n",
    "#화면 크기 설정\n",
    "screen_width = 480 # 가로크기\n",
    "screen_height = 640  #세로크기\n",
    "screen = pg.display.set_mode((screen_width, screen_height))\n",
    "\n",
    "# 화면 타이틀 설정\n",
    "pg.display.set_caption(\"Nado game\")\n"
   ]
  }
 ],
 "metadata": {
  "kernelspec": {
   "display_name": "Python 3.9.13 64-bit",
   "language": "python",
   "name": "python3"
  },
  "language_info": {
   "codemirror_mode": {
    "name": "ipython",
    "version": 3
   },
   "file_extension": ".py",
   "mimetype": "text/x-python",
   "name": "python",
   "nbconvert_exporter": "python",
   "pygments_lexer": "ipython3",
   "version": "3.9.13"
  },
  "orig_nbformat": 4,
  "vscode": {
   "interpreter": {
    "hash": "c4162e1dfb363683483abb1cbf12bddbc759bbe663f8f99b5dd6a3f888f3dfef"
   }
  }
 },
 "nbformat": 4,
 "nbformat_minor": 2
}
